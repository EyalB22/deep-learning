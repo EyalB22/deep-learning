{
 "cells": [
  {
   "cell_type": "code",
   "execution_count": 1,
   "metadata": {},
   "outputs": [],
   "source": [
    "%matplotlib inline\n",
    "\n",
    "import numpy as np\n",
    "import matplotlib.pyplot as plt"
   ]
  },
  {
   "cell_type": "markdown",
   "metadata": {},
   "source": [
    "# Logistic Regression\n",
    "---\n",
    "Say we are doing a classic perdiction task, where given a input vector with $n$ variables: \n",
    "\n",
    "$$ x = (x_1, x_2, ..., x_n)$$\n",
    "\n",
    "And to predict 1 response variable $y$ (may be the sales of next year, the house price, etc.), the simplest form is to use a linear regression to do the prediction with the formula:\n",
    "\n",
    "$$ y = W^{T}x + b$$\n",
    "\n",
    "Where $W$ is a column vector with $n$ dimension. Say now our question changed a bit, we hope to predict a probability, like what's the probability of raining tomorror? In this sense, this linear regression might be a little unfit here, as a linear expression can be unbounded and our probability is ranged in $[0, 1]$.\n",
    "\n",
    "---\n",
    "## Sigmoid Function\n",
    "---\n",
    "To bound our prediction in $[0, 1]$, the widely used technic is to apply a $sigmoid$ function:\n",
    "\n",
    "$$ z = \\sigma(x) = \\frac{1}{1+\\exp^{-x}}$$\n",
    "\n",
    "With `numpy` we can easily visualize the function."
   ]
  },
  {
   "cell_type": "code",
   "execution_count": 2,
   "metadata": {},
   "outputs": [],
   "source": [
    "def sigmoid(x):\n",
    "    return 1/(1 + np.exp(-x))"
   ]
  },
  {
   "cell_type": "code",
   "execution_count": 6,
   "metadata": {},
   "outputs": [
    {
     "data": {
      "text/plain": [
       "[<matplotlib.lines.Line2D at 0x11e61ea50>]"
      ]
     },
     "execution_count": 6,
     "metadata": {},
     "output_type": "execute_result"
    },
    {
     "data": {
      "image/png": "[encoded data removed]",
      "text/plain": [
       "<Figure size 720x360 with 1 Axes>"
      ]
     },
     "metadata": {
      "needs_background": "light"
     },
     "output_type": "display_data"
    }
   ],
   "source": [
    "plt.figure(figsize=[10, 5])\n",
    "x = np.linspace(-10, 10, 2000)\n",
    "y = sigmoid(x)\n",
    "\n",
    "plt.plot(x, y)"
   ]
  },
  {
   "cell_type": "markdown",
   "metadata": {},
   "source": [
    "## Loss Function\n",
    "---\n",
    "The definition of loss function of logistic regression is defined as:\n",
    "\n",
    "$$ L(\\hat{y}, y) = - [ylog\\hat{y} + (1 - y)log(1 - \\hat{y})]$$\n",
    "\n",
    "Where $\\hat{y}$ is our prediction ranging from $[0, 1]$ and $y$ is the true value. When the actual value is $y = 1$, the equation becomes:\n",
    "\n",
    "$$L(\\hat{y}, y) = - ylog\\hat{y} $$\n",
    "\n",
    "the closer $\\hat{y}$ to 1, the smaller our loss is. And the same goes for $y = 0$"
   ]
  },
  {
   "cell_type": "markdown",
   "metadata": {},
   "source": [
    "## Formula of One Input\n",
    "---\n",
    "Now to put everything together, for an given input $x = (x_1, x_2, ..., x_n)$ (with $n$ features), the forward path of logistic regression would be:\n",
    "\n",
    "$$ z = W^Tx + b$$\n",
    "\n",
    "$$ \\hat{y} = \\sigma{(z)}$$\n",
    "\n",
    "$$ L(\\hat{y}, y) = - [ylog\\hat{y} + (1 - y)log(1 - \\hat{y})]$$\n",
    "\n",
    "## Gradient Descent\n",
    "---\n",
    "Given this actual value $y$, we hope to minimize the loss $L$, and the technic we are going to apply here is gradient descent(the details has been illustrated in many articles), bascically what we need to do is to apply derivative to our variables and move the them slightly to down to the optimum.\n",
    "\n",
    "Here we have 2 variables, $W$ and $b$, and for this example, the update formula of them would be:\n",
    "\n",
    "$$W = W - \\frac{dL}{dW}$$\n",
    "\n",
    "$$b = b - \\frac{dL}{db}$$\n",
    "\n",
    "Where $W$ is a column vector with $n$ weights correpond to the $n$ dimension of $x^{(i)}$. In order to get the derivative of our targets, chain rules would be applied:\n",
    "\n",
    "$$\\frac{dL}{dW} = \\frac{dL}{d\\hat{y}} \\times \\frac{d\\hat{y}}{dz} \\times \\frac{dz}{dW} = (\\hat{y} - y)x$$\n",
    "\n",
    "$$\\frac{dL}{db} = \\frac{dL}{d\\hat{y}} \\times \\frac{d\\hat{y}}{dz} \\times \\frac{dz}{db} = (\\hat{y} - y)$$\n",
    "\n",
    "You can try out the deduction on your own, the only tricky part is the derivative of `sigmoid` function, for a good explanation you can refer to [here](https://math.stackexchange.com/questions/78575/derivative-of-sigmoid-function-sigma-x-frac11e-x)."
   ]
  },
  {
   "cell_type": "markdown",
   "metadata": {},
   "source": [
    "## Batch Training\n",
    "---\n",
    "The above gives the forward and backward updating process, which is well enough to implement a logistic regression if we were to feed in our training model *ONE AT A TIME*. However, in most training cases, we don't do that. Instead training samples are feed in batches, and the backward propogation is updated with average loss of the batch.\n",
    "\n",
    "Which means that for a model that feed with `m` samples at a time, the loss function would be:\n",
    "\n",
    "$$J(W, b) = \\frac{1}{m}\\sum_i{L(\\hat{y}^{(i)}, y^{(i)})}$$\n",
    "\n",
    "Where $i$ denotes the $ith$ training sample.\n",
    "\n",
    "## Forward Propogation of Batch Training\n",
    "---\n",
    "Now instead of using $x$, a single vector, as our input, we specify a matrix $X$ with size $n \\times m$, where as above, $n$ is the number of features and $m$ is number of training samples (basically, we line up $m$ training samples in a matrix). Now the formula becomes:\n",
    "\n",
    "$$ Z = W^TX + b \\tag1$$\n",
    "\n",
    "$$ \\hat{Y} = \\sigma{(Z)} \\tag2$$\n",
    "\n",
    "$$ L(\\hat{Y}, Y) = - [Ylog\\hat{Y} + (1 - Y)log(1 - \\hat{Y})] \\tag3$$\n",
    "\n",
    "$$J(W, b) = \\frac{1}{m}\\sum_i{L(\\hat{y}^{(i)}, y^{(i)})} \\tag4$$\n",
    "\n",
    "Note that here we use *UPPER LETTER* to denote our matrix and vectors (a caveat is that $b$ here is still a single value, the more formal way would be to represent $b$ as a vector, but in `python` the addition of a single value to a matrix would be automated broadcasted). \n",
    "\n",
    "Let's break down the size of the matrices one by one. \n",
    "\n",
    "In equation $(1)$, $W^T$ is a $1 \\times n$ matrix, $X$ is a $n \\times m$ matrix, so $Z$ is a $1 \\times m$ matrix\n",
    "\n",
    "In equetion $(2)$, applying directly the $sigmoid$ function to $Z$ would leave $\\hat{Y}$ still a $1 \\times m$ matrix\n",
    "\n",
    "In equetion $(3)$, the actual value matrix $Y$ is a $1 \\times m$ matrix, and all operations are element wise, so $L$ would still be a $1 \\times m$ matrix\n",
    "\n",
    "In the last equation, $J$ would be a single value denoting the loss of that batch"
   ]
  },
  {
   "cell_type": "markdown",
   "metadata": {},
   "source": [
    "## Backward Propagation of Batch\n",
    "---\n",
    "Now give our new targe $J$, our derivative of variable $W$ and $b$ would be:\n",
    "\n",
    "$$ \\frac{dJ}{dW} = \\frac{dJ}{dL} \\times \\frac{dL}{dW} = \\frac{1}{m}X(\\hat{Y} - Y)^T$$\n",
    "\n",
    "$$ \\frac{dJ}{db} = \\frac{dJ}{dL} \\times \\frac{dL}{db} = \\frac{1}{m}\\sum_i{(\\hat{y}^{(i)} - y^{(i)})}$$\n",
    "\n",
    "Where $\\frac{dJ}{dW}$ is $1 \\times n$ vector and $\\frac{dJ}{db}$ is a single value"
   ]
  },
  {
   "cell_type": "markdown",
   "metadata": {},
   "source": [
    "## Generate Classification Task\n",
    "---\n",
    "Our formula stuff ends here, let's implement our algorithm, before that some data needs to be generated to make a classification task."
   ]
  },
  {
   "cell_type": "code",
   "execution_count": 4,
   "metadata": {},
   "outputs": [],
   "source": [
    "from sklearn import datasets"
   ]
  },
  {
   "cell_type": "code",
   "execution_count": 8,
   "metadata": {},
   "outputs": [],
   "source": [
    "X, y = datasets.make_classification(n_samples=1000, random_state=123)\n",
    "\n",
    "X_train, X_test = X[:700], X[700:]\n",
    "y_train, y_test = y[:700], y[700:]"
   ]
  },
  {
   "cell_type": "code",
   "execution_count": 9,
   "metadata": {},
   "outputs": [
    {
     "name": "stdout",
     "output_type": "stream",
     "text": [
      "train shape (700, 20)\n",
      "test shape (300, 20)\n"
     ]
    }
   ],
   "source": [
    "print('train shape', X_train.shape)\n",
    "print('test shape', X_test.shape)"
   ]
  },
  {
   "cell_type": "markdown",
   "metadata": {},
   "source": [
    "# Implementation\n",
    "---\n",
    "Now everything is set, let's go for the implementation."
   ]
  },
  {
   "cell_type": "markdown",
   "metadata": {},
   "source": [
    "## Helper Functions\n",
    "---\n",
    "- sigmoid function that take in an array\n",
    "- weight function that initialize of $W$ and $b$ to zeros\n",
    "- accuracy function to measure our accuracy of binary prediction"
   ]
  },
  {
   "cell_type": "code",
   "execution_count": 45,
   "metadata": {},
   "outputs": [],
   "source": [
    "def sigmoid(x):\n",
    "    return 1/(1 + np.exp(-x))\n",
    "\n",
    "\n",
    "def init_weights(dim):\n",
    "    W = np.zeros((dim, 1))\n",
    "    b = 0\n",
    "    return W, b\n",
    "\n",
    "def accuracy(y_pred, y_true):\n",
    "    y_pred, y_true = np.squeeze(y_pred), np.squeeze(y_true)\n",
    "    assert y_pred.shape == y_true.shape\n",
    "    y_pred = np.array([1 if i > 0.5 else 0 for i in y_pred])\n",
    "    return 1 - np.sum(np.abs(y_pred - y_true))/len(y_true)"
   ]
  },
  {
   "cell_type": "code",
   "execution_count": 46,
   "metadata": {},
   "outputs": [
    {
     "name": "stdout",
     "output_type": "stream",
     "text": [
      "(10, 1) 0\n",
      "0.5\n"
     ]
    }
   ],
   "source": [
    "W, b = init_weights(10)\n",
    "\n",
    "print(W.shape, b)\n",
    "\n",
    "pred = np.array([0.2, 0.4, 0.7, 0.9])\n",
    "true = np.array([0, 1, 1, 0])\n",
    "acc = accuracy(pred, true)\n",
    "print(acc)"
   ]
  },
  {
   "cell_type": "markdown",
   "metadata": {},
   "source": [
    "## Predict\n",
    "---\n",
    "Our `predict` function would be simply going through the forward process given trained weights"
   ]
  },
  {
   "cell_type": "code",
   "execution_count": 16,
   "metadata": {},
   "outputs": [],
   "source": [
    "def predict(X, W, b):\n",
    "    Z = np.dot(W.T, X) + b\n",
    "    Y_hat = sigmoid(Z)\n",
    "    return Y_hat"
   ]
  },
  {
   "cell_type": "markdown",
   "metadata": {},
   "source": [
    "## Train\n",
    "---\n",
    "Notice that for the `train` function, the input shape of $X$ needs to have shape of $n \\times m$, and $Y$ with shape of $1 \\times m$, where $m$ is the batch size."
   ]
  },
  {
   "cell_type": "code",
   "execution_count": 1,
   "metadata": {},
   "outputs": [],
   "source": [
    "def train(X, Y, learning_rate=0.01, iterations=1000, verbose=False):\n",
    "    \"\"\"\n",
    "    X: shape of n x m (n features and m samples)\n",
    "    y: shape 1 x m\n",
    "    \"\"\"\n",
    "    n = X.shape[0]\n",
    "    m = X.shape[1]\n",
    "    W, b = init_weights(n)\n",
    "    assert W.shape == (n, 1)\n",
    "    assert Y.shape == (1, m)\n",
    "    \n",
    "    losses = []\n",
    "    for i in range(iterations):\n",
    "        Z = np.dot(W.T, X) + b\n",
    "        Y_hat = sigmoid(Z)\n",
    "        assert Y_hat.shape == (1, m)\n",
    "\n",
    "        loss = -1/m * np.sum((Y*np.log(Y_hat) + (1-Y)*np.log(1 - Y_hat)))\n",
    "        losses.append(loss)\n",
    "        \n",
    "        dW = np.dot(X, (Y_hat - Y).T)/m\n",
    "        db = np.mean(Y_hat - Y)\n",
    "        \n",
    "        W -= dW\n",
    "        b -= db\n",
    "        \n",
    "        if verbose and i % 100 == 0:\n",
    "            print(f'round {i}: loss {loss}')\n",
    "            \n",
    "    return {'W': W, 'b': b, 'loss': losses}"
   ]
  },
  {
   "cell_type": "markdown",
   "metadata": {},
   "source": [
    "The input need to transpose in order to fit in our training requirements."
   ]
  },
  {
   "cell_type": "code",
   "execution_count": 18,
   "metadata": {},
   "outputs": [
    {
     "name": "stdout",
     "output_type": "stream",
     "text": [
      "X shape (20, 700)\n",
      "Y shape (1, 700)\n"
     ]
    }
   ],
   "source": [
    "X = X_train.T\n",
    "Y = y_train.reshape(1, -1)\n",
    "\n",
    "print('X shape', X.shape)\n",
    "print('Y shape', Y.shape)"
   ]
  },
  {
   "cell_type": "code",
   "execution_count": 20,
   "metadata": {},
   "outputs": [
    {
     "name": "stdout",
     "output_type": "stream",
     "text": [
      "round 1: loss 0.6931471805599454\n",
      "round 101: loss 0.2360053825603893\n",
      "round 201: loss 0.23599594434568905\n",
      "round 301: loss 0.23599593567130606\n",
      "round 401: loss 0.23599593566305357\n"
     ]
    }
   ],
   "source": [
    "model = train(X, Y, learning_rate=0.01, iterations=500, verbose=True)"
   ]
  },
  {
   "cell_type": "code",
   "execution_count": 38,
   "metadata": {},
   "outputs": [],
   "source": [
    "W = model['W']\n",
    "b = model['b']\n",
    "\n",
    "y_pred = predict(X_test.T, W, b)\n",
    "y_true = y_test.reshape(1, -1)"
   ]
  },
  {
   "cell_type": "code",
   "execution_count": 49,
   "metadata": {},
   "outputs": [
    {
     "name": "stdout",
     "output_type": "stream",
     "text": [
      "accuracy 93.67%\n"
     ]
    }
   ],
   "source": [
    "acc = accuracy(y_pred, y_true)\n",
    "print('accuracy {:.2f}%'.format(acc*100))"
   ]
  },
  {
   "cell_type": "markdown",
   "metadata": {},
   "source": [
    "## Ensemble in a Class\n",
    "---\n",
    "Now let's ensemble everything into a class to look more structured"
   ]
  },
  {
   "cell_type": "code",
   "execution_count": 33,
   "metadata": {},
   "outputs": [],
   "source": [
    "class LogisticRegression:\n",
    "    def __init__(self):\n",
    "        self.W = 0\n",
    "        self.b = 0\n",
    "        self.losses = []\n",
    "    \n",
    "    @staticmethod\n",
    "    def sigmoid(x):\n",
    "        return 1/(1 + np.exp(-x))\n",
    "\n",
    "    @staticmethod\n",
    "    def init_weights(dim):\n",
    "        W = np.zeros((dim, 1))\n",
    "        b = 0\n",
    "        return W, b\n",
    "    \n",
    "    @staticmethod\n",
    "    def accuracy(y_pred, y_true):\n",
    "        y_pred, y_true = np.squeeze(y_pred), np.squeeze(y_true)\n",
    "        assert y_pred.shape == y_true.shape\n",
    "        y_pred = np.array([1 if i > 0.5 else 0 for i in y_pred])\n",
    "        return 1 - np.sum(np.abs(y_pred - y_true))/len(y_true)\n",
    "    \n",
    "    def train(self, X_train, y_train, learning_rate=0.01, iterations=1000, verbose=False):\n",
    "        \"\"\"\n",
    "        X: shape of n x m (n features and m samples)\n",
    "        y: shape 1 x m\n",
    "        \"\"\"\n",
    "        X = X_train.T\n",
    "        Y = y_train.reshape(1, -1)\n",
    "\n",
    "        n = X.shape[0]\n",
    "        m = X.shape[1]\n",
    "        self.W, self.b = self.init_weights(n)\n",
    "        assert self.W.shape == (n, 1)\n",
    "        assert Y.shape == (1, m)\n",
    "\n",
    "        for i in range(iterations):\n",
    "            Z = np.dot(self.W.T, X) + self.b\n",
    "            Y_hat = self.sigmoid(Z)\n",
    "            assert Y_hat.shape == (1, m)\n",
    "\n",
    "            loss = -1/m * np.sum((Y*np.log(Y_hat) + (1-Y)*np.log(1 - Y_hat)))\n",
    "            self.losses.append(loss)\n",
    "\n",
    "            dW = np.dot(X, (Y_hat - Y).T)/m\n",
    "            db = np.mean(Y_hat - Y)\n",
    "\n",
    "            self.W -= dW\n",
    "            self.b -= db\n",
    "\n",
    "            if verbose and i % 100 == 0:\n",
    "                print(f'round {i}: loss {loss}')\n",
    "\n",
    "    def predict(self, X_test):\n",
    "        X = X_test.T\n",
    "        Z = np.dot(self.W.T, X) + self.b\n",
    "        Y_hat = self.sigmoid(Z)\n",
    "        return Y_hat"
   ]
  },
  {
   "cell_type": "code",
   "execution_count": 34,
   "metadata": {},
   "outputs": [
    {
     "name": "stdout",
     "output_type": "stream",
     "text": [
      "round 0: loss 0.6931471805599454\n",
      "round 100: loss 0.13913472257785545\n",
      "round 200: loss 0.13580982295749638\n",
      "round 300: loss 0.13516585548864551\n",
      "round 400: loss 0.13499557852028424\n"
     ]
    }
   ],
   "source": [
    "clf = LogisticRegression()\n",
    "clf.train(X_train, y_train, learning_rate=0.01, iterations=500, verbose=True)"
   ]
  },
  {
   "cell_type": "code",
   "execution_count": 35,
   "metadata": {},
   "outputs": [
    {
     "name": "stdout",
     "output_type": "stream",
     "text": [
      "accuracy 94.00%\n"
     ]
    }
   ],
   "source": [
    "y_pred = clf.predict(X_test)\n",
    "y_true = y_test.reshape(1, -1)\n",
    "\n",
    "acc = clf.accuracy(y_pred, y_true)\n",
    "print('accuracy {:.2f}%'.format(acc*100))"
   ]
  },
  {
   "cell_type": "code",
   "execution_count": null,
   "metadata": {},
   "outputs": [],
   "source": []
  }
 ],
 "metadata": {
  "kernelspec": {
   "display_name": "Python 3",
   "language": "python",
   "name": "python3"
  },
  "language_info": {
   "codemirror_mode": {
    "name": "ipython",
    "version": 3
   },
   "file_extension": ".py",
   "mimetype": "text/x-python",
   "name": "python",
   "nbconvert_exporter": "python",
   "pygments_lexer": "ipython3",
   "version": "3.8.3"
  }
 },
 "nbformat": 4,
 "nbformat_minor": 4
}
