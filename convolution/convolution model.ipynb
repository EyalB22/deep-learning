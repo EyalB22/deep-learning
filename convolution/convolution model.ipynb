{
 "cells": [
  {
   "cell_type": "markdown",
   "metadata": {},
   "source": [
    "# Convolutional Neural Network"
   ]
  },
  {
   "cell_type": "markdown",
   "metadata": {},
   "source": [
    "## Forward\n",
    "---\n",
    "- Zero Paddings\n",
    "- Convolutional Layer\n",
    "- Pooling"
   ]
  },
  {
   "cell_type": "markdown",
   "metadata": {},
   "source": [
    "Zero Padding pads 0s at the edge of an image, benefits include:\n",
    "- It allows you to use a CONV layer without necessarily shrinking the height and width of the volumes. This is important for building deeper networks, since otherwise the height/width would shrink as you go to deeper layers. An important special case is the \"same\" convolution, in which the height/width is exactly preserved after one layer. \n",
    "\n",
    "- It helps us keep more of the information at the border of an image. Without padding, very few values at the next layer would be affected by pixels as the edges of an image.\n",
    "\n",
    "<img src=\"images/PAD.png\" style=\"width:600px;height:400px;\">\n",
    "\n",
    "<caption><center>from Deep Learning Specilization Course</center></caption>"
   ]
  },
  {
   "cell_type": "markdown",
   "metadata": {},
   "source": [
    "Consider an input of batched images with shape:\n",
    "\n",
    "$$(m, n_W, n_H, n_C)$$\n",
    "\n",
    "Where $m$ is the batch size, $n_W$ is the width of the image, $n_H$ is the height and $n_C$ is number of channels -- RGB would has 3 channels.\n",
    "\n",
    "After padded with size $p$, the size would become\n",
    "\n",
    "$$(m, n_W + 2p, n_H + 2p, n_C)$$"
   ]
  },
  {
   "cell_type": "code",
   "execution_count": 25,
   "metadata": {},
   "outputs": [],
   "source": [
    "%matplotlib inline\n",
    "\n",
    "import numpy as np\n",
    "import matplotlib.pyplot as plt"
   ]
  },
  {
   "cell_type": "code",
   "execution_count": 26,
   "metadata": {},
   "outputs": [],
   "source": [
    "def zero_pads(X, pad):\n",
    "    \"\"\"\n",
    "    X has shape (m, n_W, n_H, n_C)\n",
    "    \"\"\"\n",
    "    X_pad = np.pad(X, ((0, 0), (pad, pad), (pad, pad), (0, 0)), 'constant', constant_values=0)\n",
    "    return X_pad"
   ]
  },
  {
   "cell_type": "code",
   "execution_count": 33,
   "metadata": {},
   "outputs": [
    {
     "name": "stdout",
     "output_type": "stream",
     "text": [
      "X shape (3, 4, 4, 3)\n",
      "X_pad shape (3, 8, 8, 3)\n"
     ]
    },
    {
     "data": {
      "text/plain": [
       "Text(0.5, 1.0, 'paded')"
      ]
     },
     "execution_count": 33,
     "metadata": {},
     "output_type": "execute_result"
    },
    {
     "data": {
      "image/png": "[encoded data removed]",
      "text/plain": [
       "<Figure size 432x288 with 2 Axes>"
      ]
     },
     "metadata": {
      "needs_background": "light"
     },
     "output_type": "display_data"
    }
   ],
   "source": [
    "X = np.random.randn(3, 4, 4, 3)\n",
    "X_pad = zero_pads(X, 2)\n",
    "\n",
    "print('X shape', X.shape)\n",
    "print('X_pad shape', X_pad.shape)\n",
    "\n",
    "plt.subplot(1, 2, 1)\n",
    "plt.imshow(X[0, :, :, 1], cmap='gray')\n",
    "plt.title('origin')\n",
    "\n",
    "plt.subplot(1, 2, 2)\n",
    "plt.imshow(X_pad[0, :, :, 1], cmap='gray')\n",
    "plt.title('paded')"
   ]
  },
  {
   "cell_type": "code",
   "execution_count": null,
   "metadata": {},
   "outputs": [],
   "source": []
  },
  {
   "cell_type": "code",
   "execution_count": null,
   "metadata": {},
   "outputs": [],
   "source": []
  },
  {
   "cell_type": "code",
   "execution_count": 22,
   "metadata": {},
   "outputs": [
    {
     "data": {
      "text/plain": [
       "array([[ 0.33946343,  0.66307695, -1.20873579,  0.19666875],\n",
       "       [ 0.50748691, -2.97628012,  0.15474476, -0.50313565],\n",
       "       [-0.57836561, -1.9060838 , -3.10431191, -0.77299851],\n",
       "       [ 0.03800938,  0.46579028,  0.4333817 , -0.08089584]])"
      ]
     },
     "execution_count": 22,
     "metadata": {},
     "output_type": "execute_result"
    }
   ],
   "source": [
    "W[:, :, 0]"
   ]
  },
  {
   "cell_type": "code",
   "execution_count": 23,
   "metadata": {},
   "outputs": [
    {
     "data": {
      "text/plain": [
       "array([[ 0.33946343,  0.66307695, -1.20873579,  0.19666875],\n",
       "       [ 0.50748691, -2.97628012,  0.15474476, -0.50313565],\n",
       "       [-0.57836561, -1.9060838 , -3.10431191, -0.77299851],\n",
       "       [ 0.03800938,  0.46579028,  0.4333817 , -0.08089584]])"
      ]
     },
     "execution_count": 23,
     "metadata": {},
     "output_type": "execute_result"
    }
   ],
   "source": [
    "W[..., 0]"
   ]
  },
  {
   "cell_type": "code",
   "execution_count": null,
   "metadata": {},
   "outputs": [],
   "source": []
  }
 ],
 "metadata": {
  "kernelspec": {
   "display_name": "Python 3",
   "language": "python",
   "name": "python3"
  },
  "language_info": {
   "codemirror_mode": {
    "name": "ipython",
    "version": 3
   },
   "file_extension": ".py",
   "mimetype": "text/x-python",
   "name": "python",
   "nbconvert_exporter": "python",
   "pygments_lexer": "ipython3",
   "version": "3.8.3"
  }
 },
 "nbformat": 4,
 "nbformat_minor": 4
}
