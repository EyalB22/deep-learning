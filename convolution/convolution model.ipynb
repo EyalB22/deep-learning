{
 "cells": [
  {
   "cell_type": "markdown",
   "metadata": {},
   "source": [
    "# Convolutional Neural Network"
   ]
  },
  {
   "cell_type": "markdown",
   "metadata": {},
   "source": [
    "## Forward\n",
    "---\n",
    "- Zero Paddings\n",
    "- Convolutional Layer\n",
    "- Pooling\n",
    "- Combination: Conv + Pool"
   ]
  },
  {
   "cell_type": "markdown",
   "metadata": {},
   "source": [
    "Zero Padding pads 0s at the edge of an image, benefits include:\n",
    "- It allows you to use a CONV layer without necessarily shrinking the height and width of the volumes. This is important for building deeper networks, since otherwise the height/width would shrink as you go to deeper layers. An important special case is the \"same\" convolution, in which the height/width is exactly preserved after one layer. \n",
    "\n",
    "- It helps us keep more of the information at the border of an image. Without padding, very few values at the next layer would be affected by pixels as the edges of an image.\n",
    "\n",
    "<img src=\"images/PAD.png\" style=\"width:600px;height:400px;\">\n",
    "\n",
    "<caption><center>from Deep Learning Specilization Course</center></caption>"
   ]
  },
  {
   "cell_type": "markdown",
   "metadata": {},
   "source": [
    "Consider an input of batched images with shape:\n",
    "\n",
    "$$(m, n_W, n_H, n_C)$$\n",
    "\n",
    "Where $m$ is the batch size, $n_W$ is the width of the image, $n_H$ is the height and $n_C$ is number of channels -- RGB would has 3 channels.\n",
    "\n",
    "After padded with size $p$, the size would become\n",
    "\n",
    "$$(m, n_W + 2p, n_H + 2p, n_C)$$"
   ]
  },
  {
   "cell_type": "code",
   "execution_count": 25,
   "metadata": {},
   "outputs": [],
   "source": [
    "%matplotlib inline\n",
    "\n",
    "import numpy as np\n",
    "import matplotlib.pyplot as plt"
   ]
  },
  {
   "cell_type": "code",
   "execution_count": 26,
   "metadata": {},
   "outputs": [],
   "source": [
    "def zero_pads(X, pad):\n",
    "    \"\"\"\n",
    "    X has shape (m, n_W, n_H, n_C)\n",
    "    \"\"\"\n",
    "    X_pad = np.pad(X, ((0, 0), (pad, pad), (pad, pad), (0, 0)), 'constant', constant_values=0)\n",
    "    return X_pad"
   ]
  },
  {
   "cell_type": "code",
   "execution_count": 33,
   "metadata": {},
   "outputs": [
    {
     "name": "stdout",
     "output_type": "stream",
     "text": [
      "X shape (3, 4, 4, 3)\n",
      "X_pad shape (3, 8, 8, 3)\n"
     ]
    },
    {
     "data": {
      "text/plain": [
       "Text(0.5, 1.0, 'paded')"
      ]
     },
     "execution_count": 33,
     "metadata": {},
     "output_type": "execute_result"
    },
    {
     "data": {
      "image/png": "[encoded data removed]",
      "text/plain": [
       "<Figure size 432x288 with 2 Axes>"
      ]
     },
     "metadata": {
      "needs_background": "light"
     },
     "output_type": "display_data"
    }
   ],
   "source": [
    "X = np.random.randn(3, 4, 4, 3)\n",
    "X_pad = zero_pads(X, 2)\n",
    "\n",
    "print('X shape', X.shape)\n",
    "print('X_pad shape', X_pad.shape)\n",
    "\n",
    "plt.subplot(1, 2, 1)\n",
    "plt.imshow(X[0, :, :, 1], cmap='gray')\n",
    "plt.title('origin')\n",
    "\n",
    "plt.subplot(1, 2, 2)\n",
    "plt.imshow(X_pad[0, :, :, 1], cmap='gray')\n",
    "plt.title('paded')"
   ]
  },
  {
   "cell_type": "markdown",
   "metadata": {},
   "source": [
    "## One Step of Convolutional Layer\n",
    "---\n",
    "<img src=\"images/Convolution_schematic.gif\" style=\"width:500px;height:300px;\">\n",
    "\n",
    "Consider a filter mapped to one piece of the image, with \n",
    "\n",
    "$$ \\text{filter size:} \\quad (f, f, n_C) $$\n",
    "$$ \\text{piece of image} \\quad (f, f, n_C) $$\n",
    "\n",
    "Where filter has the deepth of the piece of input image.\n",
    "\n",
    "Another way to look at this is you can think of the filter as the weights $W$, and for each piece of the image, it serve as an input $X$, so in the convolutional process, the formula equals:\n",
    "\n",
    "$$ Z = sum(W*X) + b $$\n",
    "$$ A = g(Z) $$\n",
    "\n",
    "Where $b$ is the bias and $g$ is the activation function. Doesn't it look very similar to the equations in the dense neural network?"
   ]
  },
  {
   "cell_type": "code",
   "execution_count": 36,
   "metadata": {},
   "outputs": [],
   "source": [
    "def sigmoid(x):\n",
    "    return 1/(1 + np.exp(-x))\n",
    "\n",
    "\n",
    "def one_step_conv(X, W, b):\n",
    "    \"\"\"\n",
    "    X is the input, and W is the filter, both have the size (f, f, n_C)\n",
    "    b is the bias for this specific filter (note that different filters don't share the same bias)\n",
    "    Here suppose that we all take sigmoid as the activation function\n",
    "    \"\"\"\n",
    "    assert X.shape == W.shape\n",
    "    Z = np.sum(np.multiply(W, X)) + b\n",
    "    A = sigmoid(Z)\n",
    "    return A"
   ]
  },
  {
   "cell_type": "code",
   "execution_count": 38,
   "metadata": {},
   "outputs": [
    {
     "name": "stdout",
     "output_type": "stream",
     "text": [
      "0.003152880008032791\n"
     ]
    }
   ],
   "source": [
    "X = np.random.randn(10, 10, 3)\n",
    "W = np.random.randn(10, 10, 3)\n",
    "b = 0\n",
    "\n",
    "A = one_step_conv(X, W, b)\n",
    "print(A)"
   ]
  },
  {
   "cell_type": "markdown",
   "metadata": {},
   "source": [
    "## Convolution\n",
    "---\n",
    "<center>\n",
    "<video width=\"620\" height=\"440\" src=\"images/conv_kiank.mp4\" type=\"video/mp4\" controls>\n",
    "</video>\n",
    "</center>\n",
    "\n",
    "Now the input (here we use `A_prev` ) would be a batch of whole images with size \n",
    "\n",
    "$$ (m, n_{W_{prev}}, n_{H_{prev}}, n_{C_{prev}}) $$\n",
    "\n",
    "Filter with size\n",
    "\n",
    "$$ (n_{C}, f, f, n_{C_{prev}}) $$\n",
    "\n",
    "Where $n_{C}$ is the number of filters, which would become the depth of the output image.\n",
    "\n",
    "Bias with size\n",
    "\n",
    "$$ (n_{C}, 1) $$\n",
    "\n",
    "And parameters include:\n",
    "$$ \\text{padding of each image:} \\enspace pad $$\n",
    "\n",
    "$$ \\text{moving step:} \\enspace stride $$\n",
    "\n",
    "So the resulting output would have size:\n",
    "\n",
    "$$ (m, \\lfloor\\frac{n_{W_{prev}} + 2p - f}{stride}\\rfloor  + 1, \\lfloor\\frac{n_{H_{prev}} + 2p - f}{stride}\\rfloor  + 1, n_C)$$\n",
    "\n",
    "Now given a image from the input, we will need to slice it into pieces and multiply with the filter one by one. \n",
    "\n",
    "Consider a 2D image with size $(n_{W_{prev}}, n_{H_{prev}})$, and stride is $s$, filter size if $f$, then the top-left corner of the output image would have mapping:\n",
    "```python\n",
    "input[0:(0 + f), 0:(0 + f)] -> output[0, 0]\n",
    "```\n",
    "\n",
    "And\n",
    "```python\n",
    "input[s:(s + f), 0:(0 + f)] -> output[1, 0]\n",
    "```\n",
    "\n",
    "The pattern would be:\n",
    "```python\n",
    "input[i*s:(i*s + f), j*s:(j*s + f)] -> output[i, j]\n",
    "```\n",
    "\n",
    "We will make use of this pattern in our implementation of slice the origin image and map to the output."
   ]
  },
  {
   "cell_type": "code",
   "execution_count": 62,
   "metadata": {},
   "outputs": [],
   "source": [
    "def conv(A_prev, filters, bias, parameters):\n",
    "    \"\"\"\n",
    "    A_prev: the input of batched images with shape: (m, n_W_prev, n_H_prev, n_C_prev)\n",
    "    filters has shape: (n_C, f, f, n_C_prev)\n",
    "    \"\"\"\n",
    "    \n",
    "    m, n_W_prev, n_H_prev, n_C_prev = A_prev.shape\n",
    "    pad, stride = parameters['pad'], parameters['stride']\n",
    "    n_C, f, f, _ = filters.shape\n",
    "    \n",
    "    n_W = (n_W_prev + 2*pad - f) // stride + 1\n",
    "    n_H = (n_H_prev + 2*pad - f) // stride + 1\n",
    "    \n",
    "    output = np.zeros((m, n_W, n_H, n_C))\n",
    "    padded_A_prev = zero_pads(A_prev, pad)\n",
    "    \n",
    "    for i in range(m):\n",
    "        # take out the image\n",
    "        padded_img = padded_A_prev[i]\n",
    "        for c in range(n_C):\n",
    "            # take out filters and bias for the channel\n",
    "            fil = filters[c]\n",
    "            b = bias[c]\n",
    "            for w in range(n_W):\n",
    "                for h in range(n_H):\n",
    "                    w_range = (stride*w, stride*w + f)\n",
    "                    h_range = (stride*h, stride*h + f)\n",
    "                    img_slice = padded_img[w_range[0]:w_range[1], h_range[0]:h_range[1], :]\n",
    "                    output[i, w, h, c] = one_step_conv(img_slice, fil, b)\n",
    "    \n",
    "    return output"
   ]
  },
  {
   "cell_type": "code",
   "execution_count": 68,
   "metadata": {
    "scrolled": true
   },
   "outputs": [
    {
     "name": "stdout",
     "output_type": "stream",
     "text": [
      "(4, 15, 15, 10)\n"
     ]
    }
   ],
   "source": [
    "A_prev = np.random.randn(4, 28, 28, 3)\n",
    "filters = np.random.randn(10, 3, 3, 3)  # filter size (3, 3, 3)\n",
    "bias = np.zeros(10)\n",
    "parameters = {'pad': 2, 'stride': 2}\n",
    "\n",
    "Z = conv(A_prev, filters, bias, parameters)\n",
    "print(Z.shape)"
   ]
  },
  {
   "cell_type": "markdown",
   "metadata": {},
   "source": [
    "# Pooling\n",
    "---\n",
    "After convolutional layer, it typically follows a pooling layer. The pooling (POOL) layer reduces the height and width of the input. It helps reduce computation, as well as helps make feature detectors more invariant to its position in the input. The two types of pooling layers are: \n",
    "\n",
    "- Max-pooling layer: slides an ($f, f$) window over the input and stores the max value of the window in the output.\n",
    "\n",
    "- Average-pooling layer: slides an ($f, f$) window over the input and stores the average value of the window in the output.\n",
    "\n",
    "<table>\n",
    "<td>\n",
    "<img src=\"images/max_pool1.png\" style=\"width:500px;height:300px;\">\n",
    "<td>\n",
    "\n",
    "<td>\n",
    "<img src=\"images/a_pool.png\" style=\"width:500px;height:300px;\">\n",
    "<td>\n",
    "</table>\n",
    "\n",
    "<caption><center>from Deep Learning Specilization Course</center></caption>\n",
    "\n",
    "The process is pretty much the same as the convolutional layer, with a filter and a stride, at each step, we will take a slice of the whole image and compute one value -- either max or average -- from it.\n",
    "\n",
    "Given filter size $f$, stride $s$ and input size:\n",
    "$$ (m, n_{W_{prev}}, n_{H_{prev}}, n_{C_{prev}}) $$\n",
    "\n",
    "Output would have size:\n",
    "\n",
    "$$ (m, \\lfloor\\frac{n_{W_{prev}} - f}{stride}\\rfloor  + 1, \\lfloor\\frac{n_{H_{prev}} - f}{stride}\\rfloor  + 1, n_C)$$\n",
    "$$ n_C = n_{C_{prev}}$$"
   ]
  },
  {
   "cell_type": "code",
   "execution_count": 66,
   "metadata": {},
   "outputs": [],
   "source": [
    "def pooling(A_prev, parameters, mode='max'):\n",
    "    \"\"\"\n",
    "    A_prev: the input of batched images with shape: (m, n_W_prev, n_H_prev, n_C_prev)\n",
    "    \"\"\"\n",
    "    m, n_W_prev, n_H_prev, n_C_prev = A_prev.shape\n",
    "    f, stride = parameters['f'], parameters['stride']\n",
    "    \n",
    "    n_W = (n_W_prev - f)//stride + 1\n",
    "    n_H = (n_H_prev - f)//stride + 1\n",
    "    n_C = n_C_prev\n",
    "    \n",
    "    output = np.zeros((m, n_W, n_H, n_C))\n",
    "    for i in range(m):\n",
    "        img = A_prev[i]\n",
    "        for w in range(n_W):\n",
    "            for h in range(n_H):\n",
    "                for c in range(n_C):\n",
    "                    w_range = (stride*w, stride*w + f)\n",
    "                    h_range = (stride*h, stride*h + f)\n",
    "                    img_slice = img[w_range[0]:w_range[1], h_range[0]:h_range[1], c]\n",
    "                    if mode == 'max':\n",
    "                        output[i, w, h, c] = np.max(img_slice)\n",
    "                    elif mode == 'average':\n",
    "                        output[i, w, h, c] = np.mean(img_slice)\n",
    "    return output"
   ]
  },
  {
   "cell_type": "code",
   "execution_count": 70,
   "metadata": {},
   "outputs": [
    {
     "name": "stdout",
     "output_type": "stream",
     "text": [
      "(4, 14, 14, 3)\n"
     ]
    }
   ],
   "source": [
    "A_prev = np.random.randn(4, 28, 28, 3)\n",
    "parameters = {'f': 2, 'stride': 2}\n",
    "\n",
    "A = pooling(A_prev, parameters, mode='max')\n",
    "print(A.shape)"
   ]
  },
  {
   "cell_type": "code",
   "execution_count": null,
   "metadata": {},
   "outputs": [],
   "source": []
  }
 ],
 "metadata": {
  "kernelspec": {
   "display_name": "Python 3",
   "language": "python",
   "name": "python3"
  },
  "language_info": {
   "codemirror_mode": {
    "name": "ipython",
    "version": 3
   },
   "file_extension": ".py",
   "mimetype": "text/x-python",
   "name": "python",
   "nbconvert_exporter": "python",
   "pygments_lexer": "ipython3",
   "version": "3.8.3"
  }
 },
 "nbformat": 4,
 "nbformat_minor": 4
}
